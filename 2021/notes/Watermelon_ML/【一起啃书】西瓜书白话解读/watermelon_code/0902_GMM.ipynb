{
 "cells": [
  {
   "cell_type": "markdown",
   "metadata": {},
   "source": [
    "# 高斯混合聚类 "
   ]
  },
  {
   "cell_type": "markdown",
   "metadata": {},
   "source": [
    "CSDN csdn_inside: [GMM 高斯混合模型 聚类 Python实现](https://blog.csdn.net/csdn_inside/article/details/85267341)\n",
    "\n",
    "[西瓜书数据集4.0](https://blog.csdn.net/xxliu_csdn/article/details/86483816)"
   ]
  },
  {
   "cell_type": "markdown",
   "metadata": {},
   "source": [
    "<div><img src=\"./img/0901.png\", width=900>"
   ]
  },
  {
   "cell_type": "code",
   "execution_count": 1,
   "metadata": {
    "ExecuteTime": {
     "end_time": "2020-01-29T13:27:36.584810Z",
     "start_time": "2020-01-29T13:27:36.178861Z"
    },
    "scrolled": false
   },
   "outputs": [
    {
     "data": {
      "text/html": [
       "<div>\n",
       "<style scoped>\n",
       "    .dataframe tbody tr th:only-of-type {\n",
       "        vertical-align: middle;\n",
       "    }\n",
       "\n",
       "    .dataframe tbody tr th {\n",
       "        vertical-align: top;\n",
       "    }\n",
       "\n",
       "    .dataframe thead th {\n",
       "        text-align: right;\n",
       "    }\n",
       "</style>\n",
       "<table border=\"1\" class=\"dataframe\">\n",
       "  <thead>\n",
       "    <tr style=\"text-align: right;\">\n",
       "      <th></th>\n",
       "      <th>a</th>\n",
       "      <th>b</th>\n",
       "    </tr>\n",
       "  </thead>\n",
       "  <tbody>\n",
       "    <tr>\n",
       "      <th>0</th>\n",
       "      <td>0.697</td>\n",
       "      <td>0.460</td>\n",
       "    </tr>\n",
       "    <tr>\n",
       "      <th>1</th>\n",
       "      <td>0.774</td>\n",
       "      <td>0.376</td>\n",
       "    </tr>\n",
       "    <tr>\n",
       "      <th>2</th>\n",
       "      <td>0.634</td>\n",
       "      <td>0.264</td>\n",
       "    </tr>\n",
       "    <tr>\n",
       "      <th>3</th>\n",
       "      <td>0.608</td>\n",
       "      <td>0.318</td>\n",
       "    </tr>\n",
       "    <tr>\n",
       "      <th>4</th>\n",
       "      <td>0.556</td>\n",
       "      <td>0.215</td>\n",
       "    </tr>\n",
       "  </tbody>\n",
       "</table>\n",
       "</div>"
      ],
      "text/plain": [
       "       a      b\n",
       "0  0.697  0.460\n",
       "1  0.774  0.376\n",
       "2  0.634  0.264\n",
       "3  0.608  0.318\n",
       "4  0.556  0.215"
      ]
     },
     "execution_count": 1,
     "metadata": {},
     "output_type": "execute_result"
    }
   ],
   "source": [
    "import pandas as pd\n",
    "data=pd.read_csv('data_watermelon/watermelon_4.csv')\n",
    "data.head()"
   ]
  },
  {
   "cell_type": "code",
   "execution_count": 2,
   "metadata": {
    "ExecuteTime": {
     "end_time": "2020-01-29T13:27:36.595748Z",
     "start_time": "2020-01-29T13:27:36.586772Z"
    }
   },
   "outputs": [
    {
     "name": "stdout",
     "output_type": "stream",
     "text": [
      "<class 'pandas.core.frame.DataFrame'>\n",
      "RangeIndex: 30 entries, 0 to 29\n",
      "Data columns (total 2 columns):\n",
      "a    30 non-null float64\n",
      "b    30 non-null float64\n",
      "dtypes: float64(2)\n",
      "memory usage: 560.0 bytes\n"
     ]
    }
   ],
   "source": [
    "data.info()"
   ]
  },
  {
   "cell_type": "code",
   "execution_count": 3,
   "metadata": {
    "ExecuteTime": {
     "end_time": "2020-01-29T13:27:36.604723Z",
     "start_time": "2020-01-29T13:27:36.598740Z"
    }
   },
   "outputs": [
    {
     "data": {
      "text/plain": [
       "30"
      ]
     },
     "execution_count": 3,
     "metadata": {},
     "output_type": "execute_result"
    }
   ],
   "source": [
    "# 数据信息\n",
    "n_samples=data.shape[0]\n",
    "n_samples"
   ]
  },
  {
   "cell_type": "code",
   "execution_count": 4,
   "metadata": {
    "ExecuteTime": {
     "end_time": "2020-01-29T13:27:36.674536Z",
     "start_time": "2020-01-29T13:27:36.670547Z"
    }
   },
   "outputs": [
    {
     "data": {
      "text/plain": [
       "2"
      ]
     },
     "execution_count": 4,
     "metadata": {},
     "output_type": "execute_result"
    }
   ],
   "source": [
    "n_features = data.shape[1]\n",
    "n_features"
   ]
  },
  {
   "cell_type": "markdown",
   "metadata": {},
   "source": [
    "<div><img src=\"./img/0902.png\", width=900>"
   ]
  },
  {
   "cell_type": "code",
   "execution_count": 5,
   "metadata": {
    "ExecuteTime": {
     "end_time": "2020-01-29T13:27:36.990690Z",
     "start_time": "2020-01-29T13:27:36.987697Z"
    }
   },
   "outputs": [],
   "source": [
    "# 设置超参数\n",
    "n_clusters = 3"
   ]
  },
  {
   "cell_type": "code",
   "execution_count": 6,
   "metadata": {
    "ExecuteTime": {
     "end_time": "2020-01-29T13:27:37.174199Z",
     "start_time": "2020-01-29T13:27:37.168214Z"
    }
   },
   "outputs": [
    {
     "data": {
      "text/plain": [
       "array([0.33333333, 0.33333333, 0.33333333])"
      ]
     },
     "execution_count": 6,
     "metadata": {},
     "output_type": "execute_result"
    }
   ],
   "source": [
    "# 初始化设置\n",
    "import numpy as np\n",
    "alpha = np.ones(n_clusters)/n_clusters\n",
    "alpha"
   ]
  },
  {
   "cell_type": "code",
   "execution_count": 7,
   "metadata": {
    "ExecuteTime": {
     "end_time": "2020-01-29T13:27:37.342957Z",
     "start_time": "2020-01-29T13:27:37.336971Z"
    }
   },
   "outputs": [
    {
     "data": {
      "text/plain": [
       "array([[0.403, 0.237],\n",
       "       [0.714, 0.346],\n",
       "       [0.532, 0.472]])"
      ]
     },
     "execution_count": 7,
     "metadata": {},
     "output_type": "execute_result"
    }
   ],
   "source": [
    "mu = np.array([[.403,.237],[.714,.346],[.532,.472]])\n",
    "mu"
   ]
  },
  {
   "cell_type": "code",
   "execution_count": 8,
   "metadata": {
    "ExecuteTime": {
     "end_time": "2020-01-29T13:27:37.536891Z",
     "start_time": "2020-01-29T13:27:37.529884Z"
    },
    "scrolled": true
   },
   "outputs": [
    {
     "data": {
      "text/plain": [
       "array([[[0.1, 0. ],\n",
       "        [0. , 0.1]],\n",
       "\n",
       "       [[0.1, 0. ],\n",
       "        [0. , 0.1]],\n",
       "\n",
       "       [[0.1, 0. ],\n",
       "        [0. , 0.1]]])"
      ]
     },
     "execution_count": 8,
     "metadata": {},
     "output_type": "execute_result"
    }
   ],
   "source": [
    "sigma = np.full((n_clusters,n_features,n_features),np.diag(np.full(n_features,0.1)))\n",
    "sigma"
   ]
  },
  {
   "cell_type": "markdown",
   "metadata": {},
   "source": [
    "## 多元高斯分布"
   ]
  },
  {
   "cell_type": "markdown",
   "metadata": {},
   "source": [
    "<div><img src=\"./img/0906.png\", width=700>"
   ]
  },
  {
   "cell_type": "markdown",
   "metadata": {},
   "source": [
    "计算数组的行列式"
   ]
  },
  {
   "cell_type": "code",
   "execution_count": 9,
   "metadata": {
    "ExecuteTime": {
     "end_time": "2020-01-29T13:27:38.402924Z",
     "start_time": "2020-01-29T13:27:38.398928Z"
    }
   },
   "outputs": [
    {
     "data": {
      "text/plain": [
       "0.010000000000000004"
      ]
     },
     "execution_count": 9,
     "metadata": {},
     "output_type": "execute_result"
    }
   ],
   "source": [
    "np.linalg.det(sigma[0])"
   ]
  },
  {
   "cell_type": "markdown",
   "metadata": {},
   "source": [
    "行列式的结果开根号"
   ]
  },
  {
   "cell_type": "code",
   "execution_count": 10,
   "metadata": {
    "ExecuteTime": {
     "end_time": "2020-01-29T13:27:38.762927Z",
     "start_time": "2020-01-29T13:27:38.757937Z"
    },
    "scrolled": true
   },
   "outputs": [
    {
     "data": {
      "text/plain": [
       "0.10000000000000002"
      ]
     },
     "execution_count": 10,
     "metadata": {},
     "output_type": "execute_result"
    }
   ],
   "source": [
    "pow(np.linalg.det(sigma[0]),0.5)"
   ]
  },
  {
   "cell_type": "code",
   "execution_count": 11,
   "metadata": {
    "ExecuteTime": {
     "end_time": "2020-01-29T13:27:38.942513Z",
     "start_time": "2020-01-29T13:27:38.936525Z"
    }
   },
   "outputs": [
    {
     "data": {
      "text/plain": [
       "(30, 2)"
      ]
     },
     "execution_count": 11,
     "metadata": {},
     "output_type": "execute_result"
    }
   ],
   "source": [
    "X = data.values\n",
    "X.shape"
   ]
  },
  {
   "cell_type": "code",
   "execution_count": 12,
   "metadata": {
    "ExecuteTime": {
     "end_time": "2020-01-29T13:27:39.124026Z",
     "start_time": "2020-01-29T13:27:39.118042Z"
    }
   },
   "outputs": [
    {
     "data": {
      "text/plain": [
       "array([0.697, 0.46 ])"
      ]
     },
     "execution_count": 12,
     "metadata": {},
     "output_type": "execute_result"
    }
   ],
   "source": [
    "X[0]"
   ]
  },
  {
   "cell_type": "code",
   "execution_count": 13,
   "metadata": {
    "ExecuteTime": {
     "end_time": "2020-01-29T13:27:39.379381Z",
     "start_time": "2020-01-29T13:27:39.309528Z"
    }
   },
   "outputs": [
    {
     "data": {
      "text/plain": [
       "array([0.294, 0.223])"
      ]
     },
     "execution_count": 13,
     "metadata": {},
     "output_type": "execute_result"
    }
   ],
   "source": [
    "(X[0] - mu[0]).T"
   ]
  },
  {
   "cell_type": "code",
   "execution_count": 14,
   "metadata": {
    "ExecuteTime": {
     "end_time": "2020-01-29T13:27:39.663204Z",
     "start_time": "2020-01-29T13:27:39.502167Z"
    }
   },
   "outputs": [
    {
     "data": {
      "text/plain": [
       "0.805641057775526"
      ]
     },
     "execution_count": 14,
     "metadata": {},
     "output_type": "execute_result"
    }
   ],
   "source": [
    "# 计算一个多元高斯分布\n",
    "# 其中x mu 1*2 ，sigma 2*2\n",
    "def multiGaussian(x,mu,sigma):\n",
    "    a = 1/((2*np.pi)*pow(np.linalg.det(sigma),0.5))\n",
    "    b = np.exp(-0.5*(x-mu).dot(np.linalg.pinv(sigma)).dot((x-mu).T))\n",
    "    return a*b\n",
    "\n",
    "multiGaussian(X[0], mu[0], sigma[0])"
   ]
  },
  {
   "cell_type": "markdown",
   "metadata": {},
   "source": [
    "## 高斯混合"
   ]
  },
  {
   "cell_type": "markdown",
   "metadata": {},
   "source": [
    "<div><img src=\"./img/0907.png\", width=700>"
   ]
  },
  {
   "cell_type": "code",
   "execution_count": 15,
   "metadata": {
    "ExecuteTime": {
     "end_time": "2020-01-29T13:27:40.420708Z",
     "start_time": "2020-01-29T13:27:40.416703Z"
    }
   },
   "outputs": [],
   "source": [
    "gamma=np.zeros((n_samples,n_clusters))"
   ]
  },
  {
   "cell_type": "code",
   "execution_count": 16,
   "metadata": {
    "ExecuteTime": {
     "end_time": "2020-01-29T13:27:40.711482Z",
     "start_time": "2020-01-29T13:27:40.707461Z"
    }
   },
   "outputs": [
    {
     "data": {
      "text/plain": [
       "array([0., 0., 0.])"
      ]
     },
     "execution_count": 16,
     "metadata": {},
     "output_type": "execute_result"
    }
   ],
   "source": [
    "p=np.zeros(n_clusters)\n",
    "p"
   ]
  },
  {
   "cell_type": "code",
   "execution_count": 17,
   "metadata": {
    "ExecuteTime": {
     "end_time": "2020-01-29T13:27:40.934795Z",
     "start_time": "2020-01-29T13:27:40.927812Z"
    }
   },
   "outputs": [
    {
     "data": {
      "text/plain": [
       "array([0., 0., 0.])"
      ]
     },
     "execution_count": 17,
     "metadata": {},
     "output_type": "execute_result"
    }
   ],
   "source": [
    "g=np.zeros(n_clusters)\n",
    "g"
   ]
  },
  {
   "cell_type": "code",
   "execution_count": 18,
   "metadata": {
    "ExecuteTime": {
     "end_time": "2020-01-29T13:27:41.110325Z",
     "start_time": "2020-01-29T13:27:41.102345Z"
    }
   },
   "outputs": [
    {
     "data": {
      "text/plain": [
       "0.805641057775526"
      ]
     },
     "execution_count": 18,
     "metadata": {},
     "output_type": "execute_result"
    }
   ],
   "source": [
    "# 计算x_0的高斯混合\n",
    "## u_0时\n",
    "p[0]=multiGaussian(X[0],mu[0],sigma[0])\n",
    "p[0]"
   ]
  },
  {
   "cell_type": "code",
   "execution_count": 19,
   "metadata": {
    "ExecuteTime": {
     "end_time": "2020-01-29T13:27:41.300816Z",
     "start_time": "2020-01-29T13:27:41.293833Z"
    }
   },
   "outputs": [
    {
     "data": {
      "text/plain": [
       "0.26854701925850866"
      ]
     },
     "execution_count": 19,
     "metadata": {},
     "output_type": "execute_result"
    }
   ],
   "source": [
    "g[0]=alpha[0]*p[0]\n",
    "g[0]"
   ]
  },
  {
   "cell_type": "code",
   "execution_count": 20,
   "metadata": {
    "ExecuteTime": {
     "end_time": "2020-01-29T13:27:41.686783Z",
     "start_time": "2020-01-29T13:27:41.663845Z"
    }
   },
   "outputs": [
    {
     "data": {
      "text/plain": [
       "(30, 3)"
      ]
     },
     "execution_count": 20,
     "metadata": {},
     "output_type": "execute_result"
    }
   ],
   "source": [
    "# 计算所有x在所有cluster上的高斯混合\n",
    "def computeGamma(X,mu,sigma,alpha,multiGaussian):\n",
    "    n_samples = X.shape[0] # 30个样本\n",
    "    n_clusters = len(alpha) # 3个聚类\n",
    "    gamma=np.zeros((n_samples,n_clusters)) # 存最后的结果，每个x对应着三个gamma\n",
    "    p=np.zeros(n_clusters) # 多元高斯概率 一个x对应三个\n",
    "    g=np.zeros(n_clusters) # a*多元高斯概率 一个x对应三个\n",
    "    for i in range(n_samples): # 每个x\n",
    "        # 对于一个x\n",
    "        for j in range(n_clusters):\n",
    "            # 对于每一个聚类\n",
    "            p[j]=multiGaussian(X[i],mu[j],sigma[j])\n",
    "            g[j]=alpha[j]*p[j]\n",
    "        for k in range(n_clusters):\n",
    "            # 每一个x，每一个聚类，算一个gamma\n",
    "            gamma[i,k]=g[k]/np.sum(g)\n",
    "            # 每个x算出三个\n",
    "    return gamma\n",
    "gamma = computeGamma(X,mu,sigma,alpha,multiGaussian)\n",
    "gamma.shape"
   ]
  },
  {
   "cell_type": "markdown",
   "metadata": {},
   "source": [
    "## EM算法迭代更新"
   ]
  },
  {
   "cell_type": "markdown",
   "metadata": {},
   "source": [
    "<div><img src=\"./img/0904.png\", width=700>"
   ]
  },
  {
   "cell_type": "code",
   "execution_count": 21,
   "metadata": {
    "ExecuteTime": {
     "end_time": "2020-01-29T13:27:57.579905Z",
     "start_time": "2020-01-29T13:27:57.573921Z"
    }
   },
   "outputs": [
    {
     "data": {
      "text/plain": [
       "array([0.36104113, 0.32326298, 0.31569589])"
      ]
     },
     "execution_count": 21,
     "metadata": {},
     "output_type": "execute_result"
    }
   ],
   "source": [
    "# 更新 alpha\n",
    "alpha = np.sum(gamma,axis=0)/n_samples\n",
    "alpha"
   ]
  },
  {
   "cell_type": "markdown",
   "metadata": {},
   "source": [
    "#### 更新mu 考虑一个x，一个聚类"
   ]
  },
  {
   "cell_type": "code",
   "execution_count": 22,
   "metadata": {
    "ExecuteTime": {
     "end_time": "2020-01-29T13:28:39.621710Z",
     "start_time": "2020-01-29T13:28:39.616691Z"
    }
   },
   "outputs": [
    {
     "data": {
      "text/plain": [
       "(30,)"
      ]
     },
     "execution_count": 22,
     "metadata": {},
     "output_type": "execute_result"
    }
   ],
   "source": [
    "gamma[:,0].shape"
   ]
  },
  {
   "cell_type": "code",
   "execution_count": 25,
   "metadata": {
    "ExecuteTime": {
     "end_time": "2020-01-29T13:29:16.410072Z",
     "start_time": "2020-01-29T13:29:16.405085Z"
    }
   },
   "outputs": [
    {
     "data": {
      "text/plain": [
       "(30, 1)"
      ]
     },
     "execution_count": 25,
     "metadata": {},
     "output_type": "execute_result"
    }
   ],
   "source": [
    "gamma[:,0].reshape((n_samples,1)).shape"
   ]
  },
  {
   "cell_type": "code",
   "execution_count": 26,
   "metadata": {
    "ExecuteTime": {
     "end_time": "2020-01-29T13:29:34.524454Z",
     "start_time": "2020-01-29T13:29:34.517473Z"
    }
   },
   "outputs": [
    {
     "data": {
      "text/plain": [
       "array([[0.15246979, 0.10062569],\n",
       "       [0.16450122, 0.07991274],\n",
       "       [0.19631956, 0.08174821],\n",
       "       [0.18419855, 0.09634069],\n",
       "       [0.2043746 , 0.07902975],\n",
       "       [0.17682102, 0.10398656],\n",
       "       [0.20907716, 0.06476611],\n",
       "       [0.18885348, 0.09118555],\n",
       "       [0.23631904, 0.03228984],\n",
       "       [0.12307463, 0.13523015],\n",
       "       [0.14713564, 0.03423156],\n",
       "       [0.18225724, 0.05260486],\n",
       "       [0.21989474, 0.05540384],\n",
       "       [0.2112001 , 0.06364934],\n",
       "       [0.14455696, 0.14857243],\n",
       "       [0.2458228 , 0.01741072],\n",
       "       [0.2313865 , 0.03314716],\n",
       "       [0.17357954, 0.09089959],\n",
       "       [0.15937127, 0.11329934],\n",
       "       [0.1386724 , 0.12637875],\n",
       "       [0.19859964, 0.06159775],\n",
       "       [0.17550091, 0.08504666],\n",
       "       [0.17680522, 0.11420958],\n",
       "       [0.15209254, 0.13904695],\n",
       "       [0.16963889, 0.1192319 ],\n",
       "       [0.14347891, 0.09342368],\n",
       "       [0.14971191, 0.13282711],\n",
       "       [0.16311597, 0.12966513],\n",
       "       [0.15398079, 0.09451235],\n",
       "       [0.14436769, 0.14857572]])"
      ]
     },
     "execution_count": 26,
     "metadata": {},
     "output_type": "execute_result"
    }
   ],
   "source": [
    "(X*gamma[:,0].reshape((n_samples,1)))"
   ]
  },
  {
   "cell_type": "code",
   "execution_count": 27,
   "metadata": {
    "ExecuteTime": {
     "end_time": "2020-01-29T13:30:00.196747Z",
     "start_time": "2020-01-29T13:30:00.190756Z"
    }
   },
   "outputs": [
    {
     "data": {
      "text/plain": [
       "array([5.31717872, 2.71884969])"
      ]
     },
     "execution_count": 27,
     "metadata": {},
     "output_type": "execute_result"
    }
   ],
   "source": [
    "np.sum(X*gamma[:,0].reshape((n_samples,1)),axis=0)"
   ]
  },
  {
   "cell_type": "code",
   "execution_count": 30,
   "metadata": {
    "ExecuteTime": {
     "end_time": "2020-01-29T13:30:18.718200Z",
     "start_time": "2020-01-29T13:30:18.712211Z"
    }
   },
   "outputs": [
    {
     "data": {
      "text/plain": [
       "10.831233991293141"
      ]
     },
     "execution_count": 30,
     "metadata": {},
     "output_type": "execute_result"
    }
   ],
   "source": [
    "np.sum(gamma,axis=0)[0]"
   ]
  },
  {
   "cell_type": "code",
   "execution_count": 31,
   "metadata": {
    "ExecuteTime": {
     "end_time": "2020-01-29T13:30:36.579234Z",
     "start_time": "2020-01-29T13:30:36.568297Z"
    }
   },
   "outputs": [
    {
     "data": {
      "text/plain": [
       "array([0.49091163, 0.25101938])"
      ]
     },
     "execution_count": 31,
     "metadata": {},
     "output_type": "execute_result"
    }
   ],
   "source": [
    "# 更新 mu_0\n",
    "mu[0]=np.sum(X*gamma[:,0].reshape((n_samples,1)),axis=0)/np.sum(gamma,axis=0)[0]\n",
    "mu[0]"
   ]
  },
  {
   "cell_type": "code",
   "execution_count": 32,
   "metadata": {
    "ExecuteTime": {
     "end_time": "2020-01-29T13:30:45.568030Z",
     "start_time": "2020-01-29T13:30:45.560051Z"
    }
   },
   "outputs": [
    {
     "data": {
      "text/plain": [
       "array([[0.49091163, 0.25101938],\n",
       "       [0.714     , 0.346     ],\n",
       "       [0.532     , 0.472     ]])"
      ]
     },
     "execution_count": 32,
     "metadata": {},
     "output_type": "execute_result"
    }
   ],
   "source": [
    "mu"
   ]
  },
  {
   "cell_type": "markdown",
   "metadata": {},
   "source": [
    "#### 更新sigma\n",
    "\n",
    "同样以gamma做权重"
   ]
  },
  {
   "cell_type": "code",
   "execution_count": 33,
   "metadata": {
    "ExecuteTime": {
     "end_time": "2020-01-29T13:36:58.692503Z",
     "start_time": "2020-01-29T13:36:58.683527Z"
    }
   },
   "outputs": [
    {
     "data": {
      "text/plain": [
       "array([[0.02530905, 0.00413907],\n",
       "       [0.00413907, 0.01586245]])"
      ]
     },
     "execution_count": 33,
     "metadata": {},
     "output_type": "execute_result"
    }
   ],
   "source": [
    "# 更新 sigma_0\n",
    "sigma[0]=0\n",
    "for j in range(n_samples):\n",
    "    sigma[0]+=(X[j].reshape((1,n_features))-mu[0]).T.dot((X[j]-mu[0]).reshape((1,n_features)))*gamma[j,0]\n",
    "sigma[0]=sigma[0]/np.sum(gamma,axis=0)[0]\n",
    "sigma[0]"
   ]
  },
  {
   "cell_type": "markdown",
   "metadata": {},
   "source": [
    "## 全部整合"
   ]
  },
  {
   "cell_type": "code",
   "execution_count": 37,
   "metadata": {
    "ExecuteTime": {
     "end_time": "2020-01-29T13:37:48.111279Z",
     "start_time": "2020-01-29T13:37:47.905629Z"
    }
   },
   "outputs": [],
   "source": [
    "import numpy as np\n",
    "import matplotlib.pyplot as plt\n",
    " \n",
    "def multiGaussian(x,mu,sigma):\n",
    "    return 1/((2*np.pi)*pow(np.linalg.det(sigma),0.5))*np.exp(-0.5*(x-mu).dot(np.linalg.pinv(sigma)).dot((x-mu).T))\n",
    " \n",
    "def computeGamma(X,mu,sigma,alpha,multiGaussian):\n",
    "    n_samples=X.shape[0]\n",
    "    n_clusters=len(alpha)\n",
    "    gamma=np.zeros((n_samples,n_clusters))\n",
    "    p=np.zeros(n_clusters)\n",
    "    g=np.zeros(n_clusters)\n",
    "    for i in range(n_samples):\n",
    "        for j in range(n_clusters):\n",
    "            p[j]=multiGaussian(X[i],mu[j],sigma[j])\n",
    "            g[j]=alpha[j]*p[j]\n",
    "        for k in range(n_clusters):\n",
    "            gamma[i,k]=g[k]/np.sum(g)\n",
    "    return gamma\n",
    " \n",
    "class MyGMM():\n",
    "    def __init__(self,n_clusters,ITER=50):\n",
    "        self.n_clusters=n_clusters\n",
    "        self.ITER=ITER\n",
    "        self.mu=0\n",
    "        self.sigma=0\n",
    "        self.alpha=0\n",
    "      \n",
    "    def fit(self,data):\n",
    "        n_samples=data.shape[0]\n",
    "        n_features=data.shape[1]\n",
    "        '''\n",
    "        mu=data[np.random.choice(range(n_samples),self.n_clusters)]\n",
    "        '''\n",
    "        alpha=np.ones(self.n_clusters)/self.n_clusters\n",
    "        \n",
    "        mu=np.array([[.403,.237],[.714,.346],[.532,.472]])\n",
    "        \n",
    "        sigma=np.full((self.n_clusters,n_features,n_features),np.diag(np.full(n_features,0.1)))\n",
    "        \n",
    "        for i in range(self.ITER):\n",
    "            gamma=computeGamma(data,mu,sigma,alpha,multiGaussian)\n",
    "            alpha=np.sum(gamma,axis=0)/n_samples\n",
    "            for i in range(self.n_clusters):\n",
    "                mu[i]=np.sum(data*gamma[:,i].reshape((n_samples,1)),axis=0)/np.sum(gamma,axis=0)[i]\n",
    "                sigma[i]=0\n",
    "                for j in range(n_samples):\n",
    "                    sigma[i]+=(data[j].reshape((1,n_features))-mu[i]).T.dot((data[j]-mu[i]).reshape((1,n_features)))*gamma[j,i]\n",
    "                sigma[i]=sigma[i]/np.sum(gamma,axis=0)[i]\n",
    "        self.mu=mu\n",
    "        self.sigma=sigma\n",
    "        self.alpha=alpha\n",
    "        \n",
    "    def predict(self,data):\n",
    "        pred=computeGamma(data,self.mu,self.sigma,self.alpha,multiGaussian)\n",
    "        cluster_results=np.argmax(pred,axis=1)\n",
    "        return cluster_results\n"
   ]
  },
  {
   "cell_type": "code",
   "execution_count": 38,
   "metadata": {
    "ExecuteTime": {
     "end_time": "2020-01-29T13:37:48.640830Z",
     "start_time": "2020-01-29T13:37:48.600939Z"
    }
   },
   "outputs": [],
   "source": [
    "import pandas as pd\n",
    "data=pd.read_csv('data_watermelon/watermelon_4.csv')"
   ]
  },
  {
   "cell_type": "code",
   "execution_count": 39,
   "metadata": {
    "ExecuteTime": {
     "end_time": "2020-01-29T13:37:49.095615Z",
     "start_time": "2020-01-29T13:37:49.092619Z"
    }
   },
   "outputs": [],
   "source": [
    "# X = np.array(data.values, dtype=float)\n",
    "X = data.values"
   ]
  },
  {
   "cell_type": "code",
   "execution_count": 40,
   "metadata": {
    "ExecuteTime": {
     "end_time": "2020-01-29T13:37:51.221270Z",
     "start_time": "2020-01-29T13:37:50.308369Z"
    }
   },
   "outputs": [
    {
     "data": {
      "image/png": "[encoded data removed]",
      "text/plain": [
       "<Figure size 432x288 with 1 Axes>"
      ]
     },
     "metadata": {
      "needs_background": "light"
     },
     "output_type": "display_data"
    }
   ],
   "source": [
    "model1=MyGMM(3)\n",
    "model1.fit(X)\n",
    "result=model1.predict(X)\n",
    "plt.scatter(X[:,0],X[:,1],c=result)\n",
    "plt.scatter(model1.mu[:,0],model1.mu[:,1],marker='x',color='red');"
   ]
  },
  {
   "cell_type": "markdown",
   "metadata": {},
   "source": [
    "<div><img src=\"./img/0905.png\", width=700>"
   ]
  }
 ],
 "metadata": {
  "kernelspec": {
   "display_name": "Python 3",
   "language": "python",
   "name": "python3"
  },
  "language_info": {
   "codemirror_mode": {
    "name": "ipython",
    "version": 3
   },
   "file_extension": ".py",
   "mimetype": "text/x-python",
   "name": "python",
   "nbconvert_exporter": "python",
   "pygments_lexer": "ipython3",
   "version": "3.7.3"
  },
  "nbTranslate": {
   "displayLangs": [
    "*"
   ],
   "hotkey": "alt-t",
   "langInMainMenu": true,
   "sourceLang": "en",
   "targetLang": "fr",
   "useGoogleTranslate": true
  }
 },
 "nbformat": 4,
 "nbformat_minor": 2
}
