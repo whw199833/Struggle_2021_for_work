{
 "cells": [
  {
   "cell_type": "markdown",
   "metadata": {},
   "source": [
    "<div><img src = \"http://dolphin-public.oss-cn-shanghai.aliyuncs.com/img/marry/ml/1508.png\", width = 750/>"
   ]
  },
  {
   "cell_type": "markdown",
   "metadata": {},
   "source": [
    "## 参数"
   ]
  },
  {
   "cell_type": "code",
   "execution_count": null,
   "metadata": {
    "ExecuteTime": {
     "end_time": "2019-12-24T17:06:52.405451Z",
     "start_time": "2019-12-24T17:06:52.397439Z"
    }
   },
   "outputs": [],
   "source": [
    "# 函数输出打分\n",
    "output_score = list(range(12))\n",
    "output_score"
   ]
  },
  {
   "cell_type": "code",
   "execution_count": 2,
   "metadata": {
    "ExecuteTime": {
     "end_time": "2019-12-24T17:07:25.621810Z",
     "start_time": "2019-12-24T17:07:25.615857Z"
    }
   },
   "outputs": [
    {
     "data": {
      "text/plain": [
       "12"
      ]
     },
     "execution_count": 2,
     "metadata": {},
     "output_type": "execute_result"
    }
   ],
   "source": [
    "# 正确分类\n",
    "y = [0, 0, 0, 0, 1, 0, 1, 1, 0, 1, 1, 1]\n",
    "len(y)"
   ]
  },
  {
   "cell_type": "code",
   "execution_count": 3,
   "metadata": {
    "ExecuteTime": {
     "end_time": "2019-12-24T17:07:42.627291Z",
     "start_time": "2019-12-24T17:07:42.617320Z"
    }
   },
   "outputs": [
    {
     "data": {
      "text/plain": [
       "[0.0, 0.1, 0.2, 0.3, 0.4, 0.5, 0.6, 0.7, 0.8, 0.9, 1.0]"
      ]
     },
     "execution_count": 3,
     "metadata": {},
     "output_type": "execute_result"
    }
   ],
   "source": [
    "# 设定p，集合中正例比例，这里范围为0-100，所以还要除以100\n",
    "p = list(range(0,101,10))\n",
    "p = [i/100 for i in p]\n",
    "p"
   ]
  },
  {
   "cell_type": "code",
   "execution_count": 4,
   "metadata": {
    "ExecuteTime": {
     "end_time": "2019-12-24T17:08:05.542158Z",
     "start_time": "2019-12-24T17:08:05.539160Z"
    }
   },
   "outputs": [],
   "source": [
    "# 设定代价\n",
    "c01 = 3\n",
    "c02 = 2"
   ]
  },
  {
   "cell_type": "markdown",
   "metadata": {},
   "source": [
    "## 一个阈值"
   ]
  },
  {
   "cell_type": "code",
   "execution_count": 5,
   "metadata": {
    "ExecuteTime": {
     "end_time": "2019-12-24T17:08:38.929168Z",
     "start_time": "2019-12-24T17:08:38.925179Z"
    }
   },
   "outputs": [],
   "source": [
    "# 判断阈值\n",
    "theta = 6.5"
   ]
  },
  {
   "cell_type": "code",
   "execution_count": 6,
   "metadata": {
    "ExecuteTime": {
     "end_time": "2019-12-24T17:10:09.890941Z",
     "start_time": "2019-12-24T17:10:09.878973Z"
    }
   },
   "outputs": [
    {
     "data": {
      "text/plain": [
       "[0, 0, 0, 0, 0, 0, 0, 1, 1, 1, 1, 1]"
      ]
     },
     "execution_count": 6,
     "metadata": {},
     "output_type": "execute_result"
    }
   ],
   "source": [
    "# 函数输出判断\n",
    "def calculate_output_result(output_score,theta):\n",
    "    output_result = []\n",
    "    for i in range(len(output_score)):\n",
    "        if output_score[i] < theta:\n",
    "            output_result.append(0)\n",
    "        else:\n",
    "            output_result.append(1)\n",
    "    return output_result \n",
    "output_result = calculate_output_result(output_score,theta)\n",
    "output_result"
   ]
  },
  {
   "cell_type": "code",
   "execution_count": 7,
   "metadata": {
    "ExecuteTime": {
     "end_time": "2019-12-24T17:11:17.181155Z",
     "start_time": "2019-12-24T17:11:16.456584Z"
    }
   },
   "outputs": [
    {
     "name": "stdout",
     "output_type": "stream",
     "text": [
      "6 6\n"
     ]
    }
   ],
   "source": [
    "# 统计正例和反例的个数\n",
    "import pandas as pd\n",
    "def calculate_m_positive_negative(y):\n",
    "    result = pd.value_counts(y)\n",
    "    m_positive = result[1]\n",
    "    m_negative = result[0]\n",
    "    return m_positive, m_negative\n",
    "m_positive, m_negative = calculate_m_positive_negative(y)\n",
    "print(m_positive, m_negative)"
   ]
  },
  {
   "cell_type": "markdown",
   "metadata": {},
   "source": [
    "\n",
    "|类型|预测为5|预测非5|\n",
    "|----|----|----|\n",
    "|m_positive=6|con1|con2|\n",
    "|m_negative=6|con3|con4|\n",
    "|m=12|-|-|"
   ]
  },
  {
   "cell_type": "code",
   "execution_count": 8,
   "metadata": {
    "ExecuteTime": {
     "end_time": "2019-12-24T17:12:41.287446Z",
     "start_time": "2019-12-24T17:12:41.278465Z"
    }
   },
   "outputs": [
    {
     "name": "stdout",
     "output_type": "stream",
     "text": [
      "4 2 1 5\n"
     ]
    }
   ],
   "source": [
    "# 计算混淆矩阵的圈1，圈2，圈3，圈4\n",
    "def calculate_confusion(y,output_result):\n",
    "    con1 = 0\n",
    "    con2 = 0\n",
    "    con3 = 0\n",
    "    con4 = 0\n",
    "    for i in range(len(y)):\n",
    "        if y [i] == 1:\n",
    "            if y[i] == output_result[i]:\n",
    "                con1 += 1\n",
    "            else:\n",
    "                con2 += 1\n",
    "        else:\n",
    "            if y[i] == output_result[i]:\n",
    "                con4 += 1\n",
    "            else:\n",
    "                con3 += 1\n",
    "    return con1, con2, con3, con4\n",
    "con1, con2, con3, con4 = calculate_confusion(y,output_result)\n",
    "print(con1, con2, con3, con4)"
   ]
  },
  {
   "cell_type": "markdown",
   "metadata": {},
   "source": [
    "\n",
    "|类型|预测为5|预测非5|\n",
    "|----|----|----|\n",
    "|m_positive=6|con1=4|con2=2|\n",
    "|m_negative=6|con3=1|con4=5|\n",
    "|m=12|-|-|"
   ]
  },
  {
   "cell_type": "code",
   "execution_count": 9,
   "metadata": {
    "ExecuteTime": {
     "end_time": "2019-12-24T17:13:05.642768Z",
     "start_time": "2019-12-24T17:13:05.637783Z"
    },
    "scrolled": true
   },
   "outputs": [
    {
     "name": "stdout",
     "output_type": "stream",
     "text": [
      "0.3333 0.1667\n"
     ]
    }
   ],
   "source": [
    "# 求几个比例，保留四位小数\n",
    "def calculate_FNR_FPR(con1,con2,con3,con4):\n",
    "    FNR = round(con2/(con1+con2), 4)\n",
    "    FPR = round(con3/(con3+con4),4)\n",
    "    return FNR, FPR\n",
    "FNR, FPR = calculate_FNR_FPR(con1,con2,con3,con4)\n",
    "print(FNR, FPR)"
   ]
  },
  {
   "cell_type": "code",
   "execution_count": 10,
   "metadata": {
    "ExecuteTime": {
     "end_time": "2019-12-24T17:13:56.497970Z",
     "start_time": "2019-12-24T17:13:56.489015Z"
    }
   },
   "outputs": [
    {
     "data": {
      "text/plain": [
       "[0.0, 0.1429, 0.2727, 0.3913, 0.5, 0.6, 0.6923, 0.7778, 0.8571, 0.931, 1.0]"
      ]
     },
     "execution_count": 10,
     "metadata": {},
     "output_type": "execute_result"
    }
   ],
   "source": [
    "# 正概率代价\n",
    "def calculate_Pcost(p, c01, c02):\n",
    "    Pcosts = []\n",
    "    for i in range(len(p)):\n",
    "        Pcost = round((p[i]*c01)/(p[i]*c01+(1-p[i])*c02),4)\n",
    "        Pcosts.append(Pcost)\n",
    "    return Pcosts\n",
    "Pcosts  = calculate_Pcost(p, c01, c02)\n",
    "Pcosts"
   ]
  },
  {
   "cell_type": "code",
   "execution_count": 11,
   "metadata": {
    "ExecuteTime": {
     "end_time": "2019-12-24T17:14:52.986838Z",
     "start_time": "2019-12-24T17:14:52.975868Z"
    }
   },
   "outputs": [
    {
     "data": {
      "text/plain": [
       "[0.1667,\n",
       " 0.1905,\n",
       " 0.2121,\n",
       " 0.2319,\n",
       " 0.25,\n",
       " 0.2667,\n",
       " 0.282,\n",
       " 0.2963,\n",
       " 0.3095,\n",
       " 0.3218,\n",
       " 0.3333]"
      ]
     },
     "execution_count": 11,
     "metadata": {},
     "output_type": "execute_result"
    }
   ],
   "source": [
    "# 归一化总概率\n",
    "def calculate_cost_norm(p, c01, c02, FNR, FPR):\n",
    "    costs_norm = []\n",
    "    for i in range(len(p)):\n",
    "        cost_norm = round((FNR*(p[i]*c01)+FPR*(1-p[i])*c02)/(p[i]*c01+(1-p[i])*c02),4)\n",
    "        costs_norm.append(cost_norm)\n",
    "    return costs_norm\n",
    "costs_norm = calculate_cost_norm(p, c01, c02, FNR, FPR)\n",
    "costs_norm"
   ]
  },
  {
   "cell_type": "code",
   "execution_count": 13,
   "metadata": {
    "ExecuteTime": {
     "end_time": "2019-12-24T17:15:02.427839Z",
     "start_time": "2019-12-24T17:15:02.301700Z"
    },
    "scrolled": false
   },
   "outputs": [
    {
     "data": {
      "image/png": "[encoded data removed]",
      "text/plain": [
       "<Figure size 432x288 with 1 Axes>"
      ]
     },
     "metadata": {
      "needs_background": "light"
     },
     "output_type": "display_data"
    }
   ],
   "source": [
    "# 画出图像\n",
    "import matplotlib as mpl\n",
    "import matplotlib.pyplot as plt\n",
    "def plot_lines(X, Y, color):\n",
    "    plt.plot(X, Y, color)\n",
    "    return\n",
    "plot_lines(Pcosts, costs_norm,'r')\n",
    "plot_lines(p, costs_norm, \"b:\")\n",
    "plt.show()"
   ]
  },
  {
   "cell_type": "markdown",
   "metadata": {},
   "source": [
    "这里可以看出，如果直接使用p作为x轴，则图像为一条曲线\n",
    "\n",
    "而使用归一化的正例概率代价，则图像为一条直线\n",
    "\n",
    "显然线性关系更利于我们分析\n",
    "\n",
    "故之后我们都只讨论以正例概率代价为x轴的图像"
   ]
  },
  {
   "cell_type": "markdown",
   "metadata": {},
   "source": [
    "## 多个theta"
   ]
  },
  {
   "cell_type": "code",
   "execution_count": 14,
   "metadata": {
    "ExecuteTime": {
     "end_time": "2019-12-24T17:17:20.924517Z",
     "start_time": "2019-12-24T17:17:20.918534Z"
    }
   },
   "outputs": [
    {
     "data": {
      "text/plain": [
       "[0.5, 1.5, 2.5, 3.5, 4.5, 5.5, 6.5, 7.5, 8.5, 9.5, 10.5, 11.5]"
      ]
     },
     "execution_count": 14,
     "metadata": {},
     "output_type": "execute_result"
    }
   ],
   "source": [
    "# 生成theta\n",
    "thetas = list(range(12))\n",
    "thetas = [i+0.5 for i in thetas]\n",
    "thetas"
   ]
  },
  {
   "cell_type": "code",
   "execution_count": 15,
   "metadata": {
    "ExecuteTime": {
     "end_time": "2019-12-24T17:21:31.236780Z",
     "start_time": "2019-12-24T17:21:31.226774Z"
    }
   },
   "outputs": [],
   "source": [
    "# 定义计算每个theta对应的点的函数，并存在列表里\n",
    "def calculate_Pcost_cost_norm(thetas, output_score, y, calculate_Pcost, calculate_cost_norm):\n",
    "    Pcosts_n = []\n",
    "    costs_norm_n = []\n",
    "    theta_FPR_FNR = {}\n",
    "    for i in range(len(thetas)):\n",
    "        theta = thetas[i]\n",
    "        \n",
    "        # 计算输出结果\n",
    "        output_result = calculate_output_result(output_score,theta)\n",
    "        # print(output_result)\n",
    "\n",
    "        # 统计正例反例个数\n",
    "        m_positive, m_negative = calculate_m_positive_negative(y)\n",
    "        \n",
    "        # 计算混淆矩阵\n",
    "        con1, con2, con3, con4 = calculate_confusion(y,output_result)\n",
    "        # print(con1, con2, con3, con4)\n",
    "        \n",
    "        # 求 FNR FPR\n",
    "        FNR, FPR = calculate_FNR_FPR(con1,con2,con3,con4)\n",
    "        theta_FPR_FNR[theta]=[FNR, FPR]\n",
    "        \n",
    "        # 正概率代价\n",
    "        Pcosts  = calculate_Pcost(p, c01, c02)\n",
    "        Pcosts_n.append(Pcosts)\n",
    "        \n",
    "        # 归一化总概率\n",
    "        costs_norm = calculate_cost_norm(p, c01, c02, FNR, FPR)\n",
    "        costs_norm_n.append(costs_norm)\n",
    "        \n",
    "    return Pcosts_n, costs_norm_n, theta_FPR_FNR"
   ]
  },
  {
   "cell_type": "code",
   "execution_count": 16,
   "metadata": {
    "ExecuteTime": {
     "end_time": "2019-12-24T17:21:46.395290Z",
     "start_time": "2019-12-24T17:21:46.376831Z"
    }
   },
   "outputs": [],
   "source": [
    "# 调用函数计算每个theta对应的点\n",
    "Pcosts_n, costs_norm_n, theta_FPR_FNR  = calculate_Pcost_cost_norm(thetas, output_score,y, calculate_Pcost, calculate_cost_norm)"
   ]
  },
  {
   "cell_type": "code",
   "execution_count": 17,
   "metadata": {
    "ExecuteTime": {
     "end_time": "2019-12-24T17:22:16.610842Z",
     "start_time": "2019-12-24T17:22:16.469607Z"
    },
    "scrolled": true
   },
   "outputs": [
    {
     "data": {
      "image/png": "[encoded data removed]",
      "text/plain": [
       "<Figure size 432x288 with 1 Axes>"
      ]
     },
     "metadata": {
      "needs_background": "light"
     },
     "output_type": "display_data"
    }
   ],
   "source": [
    "for i in range(len(Pcosts_n)):\n",
    "    plot_lines(Pcosts_n[i], costs_norm_n[i],'r')\n",
    "plt.show()"
   ]
  },
  {
   "cell_type": "code",
   "execution_count": 18,
   "metadata": {
    "ExecuteTime": {
     "end_time": "2019-12-24T17:23:55.954636Z",
     "start_time": "2019-12-24T17:23:55.947654Z"
    }
   },
   "outputs": [
    {
     "data": {
      "text/plain": [
       "{0.5: [0.0, 0.8333],\n",
       " 1.5: [0.0, 0.6667],\n",
       " 2.5: [0.0, 0.5],\n",
       " 3.5: [0.0, 0.3333],\n",
       " 4.5: [0.1667, 0.3333],\n",
       " 5.5: [0.1667, 0.1667],\n",
       " 6.5: [0.3333, 0.1667],\n",
       " 7.5: [0.5, 0.1667],\n",
       " 8.5: [0.5, 0.0],\n",
       " 9.5: [0.6667, 0.0],\n",
       " 10.5: [0.8333, 0.0],\n",
       " 11.5: [1.0, 0.0]}"
      ]
     },
     "execution_count": 18,
     "metadata": {},
     "output_type": "execute_result"
    }
   ],
   "source": [
    "# 查看theta与对应的FPR，FNR\n",
    "theta_FPR_FNR"
   ]
  },
  {
   "cell_type": "markdown",
   "metadata": {},
   "source": [
    "## 为什么要归一化\n",
    "\n",
    "如果不归一化会怎么样"
   ]
  },
  {
   "cell_type": "code",
   "execution_count": 20,
   "metadata": {
    "ExecuteTime": {
     "end_time": "2019-12-24T17:27:42.878479Z",
     "start_time": "2019-12-24T17:27:42.871503Z"
    }
   },
   "outputs": [],
   "source": [
    "# 重新定义计算函数\n",
    "\n",
    "# 正概率代价\n",
    "def calculate_Pcost_2(p, c01, c02):\n",
    "    Pcosts = []\n",
    "    for i in range(len(p)):\n",
    "        Pcost = round(p[i]*c01, 4)\n",
    "        Pcosts.append(Pcost)\n",
    "    return Pcosts\n",
    "\n",
    "# 归一化总概率\n",
    "def calculate_cost_norm_2(p, c01, c02, FNR, FPR):\n",
    "    costs_norm = []\n",
    "    for i in range(len(p)):\n",
    "        cost_norm = round(FNR*(p[i]*c01)+FPR*(1-p[i])*c02,4)\n",
    "        costs_norm.append(cost_norm)\n",
    "    return costs_norm"
   ]
  },
  {
   "cell_type": "code",
   "execution_count": 21,
   "metadata": {
    "ExecuteTime": {
     "end_time": "2019-12-24T17:27:43.463104Z",
     "start_time": "2019-12-24T17:27:43.440513Z"
    }
   },
   "outputs": [],
   "source": [
    "# 调用函数计算每个theta对应的点\n",
    "Pcosts_n, costs_norm_n, theta_FPR_FNR  = calculate_Pcost_cost_norm(thetas, output_score,y, calculate_Pcost_2, calculate_cost_norm_2)"
   ]
  },
  {
   "cell_type": "code",
   "execution_count": 22,
   "metadata": {
    "ExecuteTime": {
     "end_time": "2019-12-24T17:27:45.032770Z",
     "start_time": "2019-12-24T17:27:44.907089Z"
    }
   },
   "outputs": [
    {
     "data": {
      "image/png": "[encoded data removed]",
      "text/plain": [
       "<Figure size 432x288 with 1 Axes>"
      ]
     },
     "metadata": {
      "needs_background": "light"
     },
     "output_type": "display_data"
    }
   ],
   "source": [
    "for i in range(len(Pcosts_n)):\n",
    "    plot_lines(Pcosts_n[i], costs_norm_n[i],'r')\n",
    "plt.show()"
   ]
  },
  {
   "cell_type": "markdown",
   "metadata": {},
   "source": [
    "其纵轴左边，右边，横轴单位不统一，受c01和c02的影响\n",
    "\n",
    "当c01，c02改变时，不方便比较"
   ]
  }
 ],
 "metadata": {
  "kernelspec": {
   "display_name": "Python 3",
   "language": "python",
   "name": "python3"
  },
  "language_info": {
   "codemirror_mode": {
    "name": "ipython",
    "version": 3.0
   },
   "file_extension": ".py",
   "mimetype": "text/x-python",
   "name": "python",
   "nbconvert_exporter": "python",
   "pygments_lexer": "ipython3",
   "version": "3.7.3"
  },
  "nbTranslate": {
   "displayLangs": [
    "*"
   ],
   "hotkey": "alt-t",
   "langInMainMenu": true,
   "sourceLang": "en",
   "targetLang": "fr",
   "useGoogleTranslate": true
  }
 },
 "nbformat": 4,
 "nbformat_minor": 0
}